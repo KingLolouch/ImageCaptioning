{
 "cells": [
  {
   "cell_type": "code",
   "execution_count": 1,
   "metadata": {},
   "outputs": [],
   "source": [
    "%matplotlib inline\n",
    "import skimage.io as io\n",
    "from pycocoevalcap.eval import COCOEvalCap\n",
    "import json\n",
    "from pycocotools.coco import COCO\n",
    "import matplotlib.pyplot as plt\n",
    "from itertools import islice"
   ]
  },
  {
   "cell_type": "code",
   "execution_count": 2,
   "metadata": {},
   "outputs": [],
   "source": [
    "# set up file names and pathes\n",
    "valset = 'annotations/captions_val2017.json'\n",
    "outputs = 'results/captions_val2017_results.json'"
   ]
  },
  {
   "cell_type": "code",
   "execution_count": 3,
   "metadata": {},
   "outputs": [
    {
     "name": "stdout",
     "output_type": "stream",
     "text": [
      "loading annotations into memory...\n",
      "0:00:00.534482\n",
      "creating index...\n",
      "index created!\n",
      "Loading and preparing results...     \n",
      "DONE (t=0.06s)\n",
      "creating index...\n",
      "index created!\n"
     ]
    }
   ],
   "source": [
    "# create coco object and cocoOutput object\n",
    "cocoObject = COCO(valset)\n",
    "\n",
    "# Turn off interactive mode\n",
    "plt.ioff()\n",
    "\n",
    "plt.xlabel('n-gram')\n",
    "\n",
    "cocoOutput = cocoObject.loadRes(outputs)\n",
    "\n",
    "plt.ylabel('Bleu score')\n",
    "\n",
    "# create cocoEval object by taking coco and cocoRes\n",
    "cocoEval = COCOEvalCap(cocoObject, cocoOutput)"
   ]
  },
  {
   "cell_type": "code",
   "execution_count": 4,
   "metadata": {},
   "outputs": [
    {
     "name": "stdout",
     "output_type": "stream",
     "text": [
      "tokenization...\n"
     ]
    },
    {
     "name": "stderr",
     "output_type": "stream",
     "text": [
      "PTBTokenizer tokenized 235726 tokens at 126394.96 tokens per second.\n",
      "PTBTokenizer tokenized 41092 tokens at 77942.36 tokens per second.\n"
     ]
    },
    {
     "name": "stdout",
     "output_type": "stream",
     "text": [
      "setting up scorers...\n",
      "computing Bleu score...\n",
      "{'testlen': 34451, 'reflen': 35123, 'guess': [34451, 30614, 26777, 22940], 'correct': [20929, 8645, 3236, 1275]}\n",
      "ratio:0.980867\n",
      "Bleu_1: 0.596\n",
      "Bleu_2: 0.406\n",
      "Bleu_3: 0.269\n",
      "Bleu_4: 0.181\n"
     ]
    }
   ],
   "source": [
    "plt.title('Bleu Scores for Different n-grams')\n",
    "\n",
    "cocoEval.params['image_id'] = cocoOutput.getImgIds()\n",
    "\n",
    "# Set the style\n",
    "plt.style.use('ggplot')\n",
    "\n",
    "# evaluate results\n",
    "cocoEval.evaluate()"
   ]
  },
  {
   "cell_type": "markdown",
   "metadata": {},
   "source": []
  },
  {
   "cell_type": "code",
   "execution_count": 5,
   "metadata": {},
   "outputs": [
    {
     "name": "stdout",
     "output_type": "stream",
     "text": [
      "Bleu_1: 0.596\n",
      "Bleu_2: 0.406\n",
      "Bleu_3: 0.269\n",
      "Bleu_4: 0.181\n"
     ]
    }
   ],
   "source": [
    "# Create a dictionary to store the evaluation scores\n",
    "evaluation_scores = {}\n",
    "\n",
    "# Populate the dictionary with the evaluation scores\n",
    "for stype, sval in cocoEval.eval.items():\n",
    "    evaluation_scores[stype] = sval\n",
    "\n",
    "# Access the evaluation scores as needed\n",
    "for i in range(4):\n",
    "    metric = 'Bleu_%d'%(i+1)\n",
    "    print('%s: %.3f'%(metric, evaluation_scores[metric]))"
   ]
  },
  {
   "cell_type": "code",
   "execution_count": 6,
   "metadata": {},
   "outputs": [
    {
     "data": {
      "image/png": "[encoded data removed]",
      "text/plain": [
       "<Figure size 640x480 with 1 Axes>"
      ]
     },
     "metadata": {},
     "output_type": "display_data"
    }
   ],
   "source": [
    "# Data for the Bleu scores\n",
    "ngrams = [1, 2, 3, 4]\n",
    "bleu_scores = list(islice(evaluation_scores.values(), 4))\n",
    "\n",
    "# Create the bar graph\n",
    "plt.bar(ngrams, bleu_scores, width=0.5)\n",
    "\n",
    "# Adjust x-axis spacing\n",
    "plt.xticks(ngrams)\n",
    "\n",
    "# Display the graph\n",
    "plt.show()"
   ]
  },
  {
   "cell_type": "code",
   "execution_count": null,
   "metadata": {},
   "outputs": [],
   "source": []
  }
 ],
 "metadata": {
  "kernelspec": {
   "display_name": "Python 3 (ipykernel)",
   "language": "python",
   "name": "python3"
  },
  "language_info": {
   "codemirror_mode": {
    "name": "ipython",
    "version": 3
   },
   "file_extension": ".py",
   "mimetype": "text/x-python",
   "name": "python",
   "nbconvert_exporter": "python",
   "pygments_lexer": "ipython3",
   "version": "3.10.10"
  }
 },
 "nbformat": 4,
 "nbformat_minor": 1
}
